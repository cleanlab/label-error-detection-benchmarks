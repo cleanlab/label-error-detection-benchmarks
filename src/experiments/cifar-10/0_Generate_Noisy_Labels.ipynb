{
 "cells": [
  {
   "cell_type": "code",
   "execution_count": 7,
   "id": "2a34f795-2d21-4e00-89f4-090d8cce7c64",
   "metadata": {},
   "outputs": [],
   "source": [
    "import sys\n",
    "sys.path.insert(0, \"../\")\n",
    "from autogluon.vision import ImagePredictor, ImageDataset\n",
    "import cleanlab\n",
    "import pandas as pd\n",
    "from noise_generation_autogluon import generate_noisy_labels_autogluon_image_dataset\n",
    "import datetime\n",
    "\n",
    "pd.set_option('display.max_rows', None)\n",
    "pd.set_option('display.max_columns', None)\n",
    "pd.set_option('display.max_colwidth', None)"
   ]
  },
  {
   "cell_type": "markdown",
   "id": "346740f1-a320-4c5f-b740-adbf60dd15a6",
   "metadata": {},
   "source": [
    "## Read data"
   ]
  },
  {
   "cell_type": "code",
   "execution_count": 2,
   "id": "9dbeca9f-b670-486b-8b3f-219d240452fa",
   "metadata": {},
   "outputs": [],
   "source": [
    "# path to cifar10 images\n",
    "CIFAR_10_DATA_PATH = \"./cifar10_png/\"\n",
    "\n",
    "# read data from root folder\n",
    "train_dataset, _, test_dataset = \\\n",
    "    ImageDataset.from_folders(\n",
    "        root=CIFAR_10_DATA_PATH,\n",
    "    )"
   ]
  },
  {
   "cell_type": "markdown",
   "id": "25fa8ca5-9368-42de-9cb8-4f7393da8546",
   "metadata": {},
   "source": [
    "## Generate noisy labels"
   ]
  },
  {
   "cell_type": "code",
   "execution_count": 3,
   "id": "6dc056cc-e2f0-4b15-b800-19233db913e6",
   "metadata": {},
   "outputs": [
    {
     "name": "stdout",
     "output_type": "stream",
     "text": [
      "Generated noisy labels with config:\n",
      "  noise_amount         : 0.2\n",
      "  frac_zero_noise_rates: 0.4\n",
      "Accuracy of noisy labels (s) and true labels (y): 0.80054\n",
      "Classes: ['airplane', 'automobile', 'bird', 'cat', 'deer', 'dog', 'frog', 'horse', 'ship', 'truck']\n"
     ]
    }
   ],
   "source": [
    "# generate dataset with noisy labels\n",
    "noise_amount = 0.2\n",
    "frac_zero_noise_rates = 0.4\n",
    "\n",
    "train_dataset_noisy_labels = \\\n",
    "    generate_noisy_labels_autogluon_image_dataset(\n",
    "        image_folder=CIFAR_10_DATA_PATH + \"train/\",\n",
    "        noise_amount=noise_amount,\n",
    "        frac_zero_noise_rates=frac_zero_noise_rates,\n",
    "    )"
   ]
  },
  {
   "cell_type": "code",
   "execution_count": 4,
   "id": "64dca3f2-b18d-4eb4-be64-6354cedd01ce",
   "metadata": {},
   "outputs": [
    {
     "data": {
      "text/plain": [
       "0.80054"
      ]
     },
     "execution_count": 4,
     "metadata": {},
     "output_type": "execute_result"
    }
   ],
   "source": [
    "# Check accuracy of noisy labels\n",
    "(train_dataset_noisy_labels.label.values == train_dataset.label.values).mean()"
   ]
  },
  {
   "cell_type": "code",
   "execution_count": 5,
   "id": "74fb0c31-31a2-478f-81c0-c12c5b8f1189",
   "metadata": {},
   "outputs": [
    {
     "data": {
      "text/plain": [
       "(50000, 2)"
      ]
     },
     "execution_count": 5,
     "metadata": {},
     "output_type": "execute_result"
    }
   ],
   "source": [
    "train_dataset_noisy_labels.shape"
   ]
  },
  {
   "cell_type": "markdown",
   "id": "725e093c-8dec-45cd-82b8-16ca7e320484",
   "metadata": {},
   "source": [
    "## Save dataset with noisy labels"
   ]
  },
  {
   "cell_type": "code",
   "execution_count": 8,
   "id": "18ce7f87-6305-43a0-be39-7796465dd4be",
   "metadata": {},
   "outputs": [],
   "source": [
    "ts = datetime.datetime.now().strftime(\"%Y%m%d%H%M%S\")\n",
    "DATA_NOISY_LABELS_OUT_FILE = f\"cifar10_train_dataset_noise_amount_{noise_amount}_sparsity_{frac_zero_noise_rates}_{ts}.csv\"\n",
    "\n",
    "train_dataset_noisy_labels.to_csv(DATA_NOISY_LABELS_OUT_FILE, index=False)"
   ]
  }
 ],
 "metadata": {
  "kernelspec": {
   "display_name": "Python 3 (ipykernel)",
   "language": "python",
   "name": "python3"
  },
  "language_info": {
   "codemirror_mode": {
    "name": "ipython",
    "version": 3
   },
   "file_extension": ".py",
   "mimetype": "text/x-python",
   "name": "python",
   "nbconvert_exporter": "python",
   "pygments_lexer": "ipython3",
   "version": "3.8.10"
  }
 },
 "nbformat": 4,
 "nbformat_minor": 5
}
