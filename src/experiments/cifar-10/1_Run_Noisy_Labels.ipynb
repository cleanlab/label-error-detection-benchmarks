{
 "cells": [
  {
   "cell_type": "code",
   "execution_count": 1,
   "metadata": {},
   "outputs": [
    {
     "name": "stderr",
     "output_type": "stream",
     "text": [
      "/home/ubuntu/.local/lib/python3.8/site-packages/tqdm/auto.py:22: TqdmWarning: IProgress not found. Please update jupyter and ipywidgets. See https://ipywidgets.readthedocs.io/en/stable/user_install.html\n",
      "  from .autonotebook import tqdm as notebook_tqdm\n"
     ]
    }
   ],
   "source": [
    "# %load_ext autoreload\n",
    "# %autoreload 2\n",
    "\n",
    "import sys\n",
    "\n",
    "sys.path.insert(0, \"../\")\n",
    "\n",
    "from autogluon.vision import ImagePredictor, ImageDataset\n",
    "import numpy as np\n",
    "import pandas as pd\n",
    "import pickle\n",
    "import datetime\n",
    "from pathlib import Path\n",
    "import cleanlab\n",
    "from cross_validation_autogluon import cross_val_predict_autogluon_image_dataset, train_predict_autogluon\n",
    "\n",
    "pd.set_option('display.max_rows', None)\n",
    "pd.set_option('display.max_columns', None)\n",
    "pd.set_option('display.max_colwidth', None)"
   ]
  },
  {
   "cell_type": "markdown",
   "metadata": {},
   "source": [
    "## Read original data"
   ]
  },
  {
   "cell_type": "code",
   "execution_count": 2,
   "metadata": {},
   "outputs": [],
   "source": [
    "# data path\n",
    "CIFAR_10_DATA_PATH = \"./cifar10_png/\"\n",
    "\n",
    "# read data from root folder\n",
    "train_dataset, _, test_dataset = \\\n",
    "    ImageDataset.from_folders(\n",
    "        root=CIFAR_10_DATA_PATH,\n",
    "    )"
   ]
  },
  {
   "cell_type": "markdown",
   "metadata": {},
   "source": [
    "## Read data with noisy label\n",
    "\n",
    "In case cross-validation procedure fails for a model, we want to be able to rerun with the same noisy dataset"
   ]
  },
  {
   "cell_type": "code",
   "execution_count": 3,
   "metadata": {},
   "outputs": [],
   "source": [
    "noise_amount = 0.2\n",
    "frac_zero_noise_rates = 0.4\n",
    "\n",
    "# DATA_NOISY_LABELS_OUT_FILE = f\"cifar10_train_dataset_noise_amount_{noise_amount}_sparsity_{frac_zero_noise_rates}_20220326055753.csv\"\n",
    "DATA_NOISY_LABELS_OUT_FILE = f\"cifar10_train_dataset_noise_amount_{noise_amount}_sparsity_{frac_zero_noise_rates}_20221011184524.csv\"\n",
    "train_dataset_noisy_labels_loaded = pd.read_csv(DATA_NOISY_LABELS_OUT_FILE)\n",
    "# train_dataset_noisy_labels_loaded['image'] = train_dataset_noisy_labels_loaded.apply(lambda x: \n",
    "#                                                                                      CIFAR_10_DATA_PATH + x['image'][18:],axis=1)"
   ]
  },
  {
   "cell_type": "code",
   "execution_count": 4,
   "metadata": {},
   "outputs": [
    {
     "data": {
      "text/html": [
       "<div>\n",
       "<style scoped>\n",
       "    .dataframe tbody tr th:only-of-type {\n",
       "        vertical-align: middle;\n",
       "    }\n",
       "\n",
       "    .dataframe tbody tr th {\n",
       "        vertical-align: top;\n",
       "    }\n",
       "\n",
       "    .dataframe thead th {\n",
       "        text-align: right;\n",
       "    }\n",
       "</style>\n",
       "<table border=\"1\" class=\"dataframe\">\n",
       "  <thead>\n",
       "    <tr style=\"text-align: right;\">\n",
       "      <th></th>\n",
       "      <th>image</th>\n",
       "      <th>label</th>\n",
       "    </tr>\n",
       "  </thead>\n",
       "  <tbody>\n",
       "    <tr>\n",
       "      <th>0</th>\n",
       "      <td>/home/ubuntu/label-error-detection-benchmarks/src/experiments/cifar-10/cifar10_png/train/airplane/data_batch_1_index_0029.png</td>\n",
       "      <td>0</td>\n",
       "    </tr>\n",
       "    <tr>\n",
       "      <th>1</th>\n",
       "      <td>/home/ubuntu/label-error-detection-benchmarks/src/experiments/cifar-10/cifar10_png/train/airplane/data_batch_1_index_0030.png</td>\n",
       "      <td>5</td>\n",
       "    </tr>\n",
       "    <tr>\n",
       "      <th>2</th>\n",
       "      <td>/home/ubuntu/label-error-detection-benchmarks/src/experiments/cifar-10/cifar10_png/train/airplane/data_batch_1_index_0035.png</td>\n",
       "      <td>9</td>\n",
       "    </tr>\n",
       "    <tr>\n",
       "      <th>3</th>\n",
       "      <td>/home/ubuntu/label-error-detection-benchmarks/src/experiments/cifar-10/cifar10_png/train/airplane/data_batch_1_index_0049.png</td>\n",
       "      <td>7</td>\n",
       "    </tr>\n",
       "    <tr>\n",
       "      <th>4</th>\n",
       "      <td>/home/ubuntu/label-error-detection-benchmarks/src/experiments/cifar-10/cifar10_png/train/airplane/data_batch_1_index_0077.png</td>\n",
       "      <td>8</td>\n",
       "    </tr>\n",
       "  </tbody>\n",
       "</table>\n",
       "</div>"
      ],
      "text/plain": [
       "                                                                                                                           image  \\\n",
       "0  /home/ubuntu/label-error-detection-benchmarks/src/experiments/cifar-10/cifar10_png/train/airplane/data_batch_1_index_0029.png   \n",
       "1  /home/ubuntu/label-error-detection-benchmarks/src/experiments/cifar-10/cifar10_png/train/airplane/data_batch_1_index_0030.png   \n",
       "2  /home/ubuntu/label-error-detection-benchmarks/src/experiments/cifar-10/cifar10_png/train/airplane/data_batch_1_index_0035.png   \n",
       "3  /home/ubuntu/label-error-detection-benchmarks/src/experiments/cifar-10/cifar10_png/train/airplane/data_batch_1_index_0049.png   \n",
       "4  /home/ubuntu/label-error-detection-benchmarks/src/experiments/cifar-10/cifar10_png/train/airplane/data_batch_1_index_0077.png   \n",
       "\n",
       "   label  \n",
       "0      0  \n",
       "1      5  \n",
       "2      9  \n",
       "3      7  \n",
       "4      8  "
      ]
     },
     "execution_count": 4,
     "metadata": {},
     "output_type": "execute_result"
    }
   ],
   "source": [
    "train_dataset_noisy_labels_loaded.head()"
   ]
  },
  {
   "cell_type": "code",
   "execution_count": 5,
   "metadata": {},
   "outputs": [
    {
     "data": {
      "text/plain": [
       "(50000, 2)"
      ]
     },
     "execution_count": 5,
     "metadata": {},
     "output_type": "execute_result"
    }
   ],
   "source": [
    "train_dataset_noisy_labels_loaded.shape"
   ]
  },
  {
   "cell_type": "code",
   "execution_count": 6,
   "metadata": {},
   "outputs": [
    {
     "data": {
      "text/html": [
       "<div>\n",
       "<style scoped>\n",
       "    .dataframe tbody tr th:only-of-type {\n",
       "        vertical-align: middle;\n",
       "    }\n",
       "\n",
       "    .dataframe tbody tr th {\n",
       "        vertical-align: top;\n",
       "    }\n",
       "\n",
       "    .dataframe thead th {\n",
       "        text-align: right;\n",
       "    }\n",
       "</style>\n",
       "<table border=\"1\" class=\"dataframe\">\n",
       "  <thead>\n",
       "    <tr style=\"text-align: right;\">\n",
       "      <th></th>\n",
       "      <th>label</th>\n",
       "      <th>image</th>\n",
       "    </tr>\n",
       "  </thead>\n",
       "  <tbody>\n",
       "    <tr>\n",
       "      <th>0</th>\n",
       "      <td>0</td>\n",
       "      <td>3690</td>\n",
       "    </tr>\n",
       "    <tr>\n",
       "      <th>1</th>\n",
       "      <td>1</td>\n",
       "      <td>5282</td>\n",
       "    </tr>\n",
       "    <tr>\n",
       "      <th>2</th>\n",
       "      <td>2</td>\n",
       "      <td>3693</td>\n",
       "    </tr>\n",
       "    <tr>\n",
       "      <th>3</th>\n",
       "      <td>3</td>\n",
       "      <td>5883</td>\n",
       "    </tr>\n",
       "    <tr>\n",
       "      <th>4</th>\n",
       "      <td>4</td>\n",
       "      <td>5962</td>\n",
       "    </tr>\n",
       "    <tr>\n",
       "      <th>5</th>\n",
       "      <td>5</td>\n",
       "      <td>4411</td>\n",
       "    </tr>\n",
       "    <tr>\n",
       "      <th>6</th>\n",
       "      <td>6</td>\n",
       "      <td>5275</td>\n",
       "    </tr>\n",
       "    <tr>\n",
       "      <th>7</th>\n",
       "      <td>7</td>\n",
       "      <td>5790</td>\n",
       "    </tr>\n",
       "    <tr>\n",
       "      <th>8</th>\n",
       "      <td>8</td>\n",
       "      <td>6030</td>\n",
       "    </tr>\n",
       "    <tr>\n",
       "      <th>9</th>\n",
       "      <td>9</td>\n",
       "      <td>3984</td>\n",
       "    </tr>\n",
       "  </tbody>\n",
       "</table>\n",
       "</div>"
      ],
      "text/plain": [
       "   label  image\n",
       "0      0   3690\n",
       "1      1   5282\n",
       "2      2   3693\n",
       "3      3   5883\n",
       "4      4   5962\n",
       "5      5   4411\n",
       "6      6   5275\n",
       "7      7   5790\n",
       "8      8   6030\n",
       "9      9   3984"
      ]
     },
     "execution_count": 6,
     "metadata": {},
     "output_type": "execute_result"
    }
   ],
   "source": [
    "train_dataset_noisy_labels_loaded.groupby(\"label\")[\"image\"].count().reset_index()"
   ]
  },
  {
   "cell_type": "markdown",
   "metadata": {},
   "source": [
    "## Generate In-Sample Predicted Probabilities"
   ]
  },
  {
   "cell_type": "code",
   "execution_count": 7,
   "metadata": {
    "jupyter": {
     "outputs_hidden": true
    },
    "tags": []
   },
   "outputs": [
    {
     "name": "stderr",
     "output_type": "stream",
     "text": [
      "modified configs(<old> != <new>): {\n",
      "root.img_cls.model   resnet101 != twins_pcpvt_base\n",
      "root.misc.num_workers 4 != 8\n",
      "root.misc.seed       42 != 259\n",
      "root.train.early_stop_baseline 0.0 != -inf\n",
      "root.train.epochs    200 != 100\n",
      "root.train.early_stop_patience -1 != 10\n",
      "root.train.early_stop_max_value 1.0 != inf\n",
      "root.train.batch_size 32 != 16\n",
      "}\n",
      "Saved config to /home/ubuntu/label-error-detection-benchmarks/src/experiments/cifar-10/7897411c/.trial_0/config.yaml\n"
     ]
    },
    {
     "name": "stdout",
     "output_type": "stream",
     "text": [
      "----\n",
      "Running cross-validation for model: twins_pcpvt_base\n",
      "training...\n"
     ]
    },
    {
     "name": "stderr",
     "output_type": "stream",
     "text": [
      "Model twins_pcpvt_base created, param count:                                         43320586\n",
      "AMP not enabled. Training in float32.\n",
      "Disable EMA as it is not supported for now.\n",
      "Start training from [Epoch 0]\n",
      "Epoch[0] Batch [49]\tSpeed: 101.125628 samples/sec\taccuracy=0.133750\tlr=0.000100\n",
      "Epoch[0] Batch [99]\tSpeed: 117.254976 samples/sec\taccuracy=0.166250\tlr=0.000100\n",
      "Epoch[0] Batch [149]\tSpeed: 116.736547 samples/sec\taccuracy=0.188750\tlr=0.000100\n",
      "Epoch[0] Batch [199]\tSpeed: 116.848909 samples/sec\taccuracy=0.226250\tlr=0.000100\n",
      "`time_limit=29.999898672103882` reached, exit early...\n"
     ]
    },
    {
     "name": "stdout",
     "output_type": "stream",
     "text": [
      "predicting...\n",
      "Saving to numpy files in this folder: ./noxval_cifar10_train_dataset_noise_amount_0.2_sparsity_0.4_cv_twins_pcpvt_base/\n",
      "saving pred_probs...\n",
      "saving noisy_labels...\n",
      "saving images...\n",
      "saving indices...\n",
      "saving predictor...\n"
     ]
    },
    {
     "name": "stderr",
     "output_type": "stream",
     "text": [
      "modified configs(<old> != <new>): {\n",
      "root.img_cls.model   resnet101 != swin_base_patch4_window7_224\n",
      "root.misc.num_workers 4 != 8\n",
      "root.misc.seed       42 != 136\n",
      "root.train.early_stop_baseline 0.0 != -inf\n",
      "root.train.epochs    200 != 100\n",
      "root.train.early_stop_patience -1 != 10\n",
      "root.train.early_stop_max_value 1.0 != inf\n",
      "root.train.batch_size 32 != 16\n",
      "}\n",
      "Saved config to /home/ubuntu/label-error-detection-benchmarks/src/experiments/cifar-10/468e481c/.trial_0/config.yaml\n"
     ]
    },
    {
     "name": "stdout",
     "output_type": "stream",
     "text": [
      "----\n",
      "Running cross-validation for model: swin_base_patch4_window7_224\n",
      "training...\n"
     ]
    },
    {
     "name": "stderr",
     "output_type": "stream",
     "text": [
      "Model swin_base_patch4_window7_224 created, param count:                                         86753474\n",
      "AMP not enabled. Training in float32.\n",
      "Disable EMA as it is not supported for now.\n",
      "Start training from [Epoch 0]\n",
      "Epoch[0] Batch [49]\tSpeed: 73.995279 samples/sec\taccuracy=0.168750\tlr=0.000100\n",
      "Epoch[0] Batch [99]\tSpeed: 78.905585 samples/sec\taccuracy=0.205625\tlr=0.000100\n",
      "Epoch[0] Batch [149]\tSpeed: 78.762440 samples/sec\taccuracy=0.243750\tlr=0.000100\n",
      "`time_limit=29.999879598617554` reached, exit early...\n"
     ]
    },
    {
     "name": "stdout",
     "output_type": "stream",
     "text": [
      "predicting...\n",
      "Saving to numpy files in this folder: ./noxval_cifar10_train_dataset_noise_amount_0.2_sparsity_0.4_cv_swin_base_patch4_window7_224/\n",
      "saving pred_probs...\n",
      "saving noisy_labels...\n",
      "saving images...\n",
      "saving indices...\n",
      "saving predictor...\n",
      "CPU times: user 6min 9s, sys: 1min 1s, total: 7min 10s\n",
      "Wall time: 7min 10s\n"
     ]
    }
   ],
   "source": [
    "%%time\n",
    "\n",
    "models = [\n",
    "#     \"resnet18\",\n",
    "#     \"resnet50d\",\n",
    "#     \"efficientnet_b1\",\n",
    "    \"twins_pcpvt_base\",\n",
    "    \"swin_base_patch4_window7_224\"\n",
    "]\n",
    "\n",
    "epochs = 100\n",
    "holdout_frac = 0.2\n",
    "n_splits = 5\n",
    "\n",
    "# run cross-validation for each model\n",
    "for model in models:\n",
    "    \n",
    "    print(\"----\")\n",
    "    print(f\"Running cross-validation for model: {model}\")\n",
    "\n",
    "    MODEL_PARAMS = {\n",
    "        \"model\": model,\n",
    "        \"epochs\": epochs,\n",
    "        \"holdout_frac\": holdout_frac\n",
    "    }\n",
    "    out_folder = f\"./noxval_cifar10_train_dataset_noise_amount_{noise_amount}_sparsity_{frac_zero_noise_rates}_cv_{model}/\"\n",
    "   \n",
    "    _ = \\\n",
    "    train_predict_autogluon(\n",
    "        dataset=train_dataset_noisy_labels_loaded, # train with NOISY LABELS,\n",
    "        classes=train_dataset.classes,\n",
    "        out_folder=out_folder, # save results of cross-validation in pickle files for each fold\n",
    "        n_splits=n_splits,\n",
    "        model_params=MODEL_PARAMS,\n",
    "        time_limit=30,\n",
    "    )\n",
    "    \n",
    "    images = np.load(out_folder + \"images.npy\", allow_pickle=True)\n",
    "    label_name_to_idx_map = {v:k for k, v in enumerate(train_dataset.classes)}\n",
    "    get_orig_label_idx_from_file_path = np.vectorize(lambda f: label_name_to_idx_map[Path(f).parts[-2]])\n",
    "    true_labels = get_orig_label_idx_from_file_path(images)\n",
    "    np.save(out_folder + \"true_labels\", true_labels)"
   ]
  },
  {
   "cell_type": "code",
   "execution_count": 8,
   "metadata": {},
   "outputs": [
    {
     "data": {
      "text/plain": [
       "array([0, 5, 9, 7, 8, 1, 2, 4, 6, 3])"
      ]
     },
     "execution_count": 8,
     "metadata": {},
     "output_type": "execute_result"
    }
   ],
   "source": [
    "train_dataset_noisy_labels_loaded[\"label\"].unique()"
   ]
  },
  {
   "cell_type": "markdown",
   "metadata": {},
   "source": [
    "## Display GPU used for training"
   ]
  },
  {
   "cell_type": "code",
   "execution_count": 9,
   "metadata": {},
   "outputs": [
    {
     "name": "stdout",
     "output_type": "stream",
     "text": [
      "Tue Oct 11 23:00:05 2022       \r\n",
      "+-----------------------------------------------------------------------------+\r\n",
      "| NVIDIA-SMI 510.73.08    Driver Version: 510.73.08    CUDA Version: 11.6     |\r\n",
      "|-------------------------------+----------------------+----------------------+\r\n",
      "| GPU  Name        Persistence-M| Bus-Id        Disp.A | Volatile Uncorr. ECC |\r\n",
      "| Fan  Temp  Perf  Pwr:Usage/Cap|         Memory-Usage | GPU-Util  Compute M. |\r\n",
      "|                               |                      |               MIG M. |\r\n",
      "|===============================+======================+======================|\r\n",
      "|   0  Tesla V100-SXM2...  On   | 00000000:00:1E.0 Off |                    0 |\r\n",
      "| N/A   66C    P0    62W / 300W |   6225MiB / 16384MiB |      0%      Default |\r\n",
      "|                               |                      |                  N/A |\r\n",
      "+-------------------------------+----------------------+----------------------+\r\n",
      "                                                                               \r\n",
      "+-----------------------------------------------------------------------------+\r\n",
      "| Processes:                                                                  |\r\n",
      "|  GPU   GI   CI        PID   Type   Process name                  GPU Memory |\r\n",
      "|        ID   ID                                                   Usage      |\r\n",
      "|=============================================================================|\r\n",
      "|    0   N/A  N/A     14045      C   /usr/bin/python3                 6223MiB |\r\n",
      "+-----------------------------------------------------------------------------+\r\n"
     ]
    }
   ],
   "source": [
    "!nvidia-smi"
   ]
  },
  {
   "cell_type": "code",
   "execution_count": null,
   "metadata": {},
   "outputs": [],
   "source": []
  }
 ],
 "metadata": {
  "kernelspec": {
   "display_name": "Python 3 (ipykernel)",
   "language": "python",
   "name": "python3"
  },
  "language_info": {
   "codemirror_mode": {
    "name": "ipython",
    "version": 3
   },
   "file_extension": ".py",
   "mimetype": "text/x-python",
   "name": "python",
   "nbconvert_exporter": "python",
   "pygments_lexer": "ipython3",
   "version": "3.8.10"
  }
 },
 "nbformat": 4,
 "nbformat_minor": 4
}
