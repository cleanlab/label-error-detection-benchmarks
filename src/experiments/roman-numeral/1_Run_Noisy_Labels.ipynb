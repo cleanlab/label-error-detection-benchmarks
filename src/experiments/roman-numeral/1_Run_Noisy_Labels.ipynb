{
 "cells": [
  {
   "cell_type": "code",
   "execution_count": null,
   "metadata": {},
   "outputs": [],
   "source": [
    "%load_ext autoreload\n",
    "%autoreload 2\n",
    "\n",
    "import sys\n",
    "sys.path.insert(0, \"../\")\n",
    "\n",
    "from autogluon.vision import ImagePredictor, ImageDataset\n",
    "import numpy as np\n",
    "import pandas as pd\n",
    "import pickle\n",
    "import datetime\n",
    "from pathlib import Path\n",
    "from sklearn.model_selection import StratifiedKFold\n",
    "from cross_validation_autogluon import cross_val_predict_autogluon_image_dataset, train_predict_autogluon\n",
    "\n",
    "pd.set_option('display.max_rows', None)\n",
    "pd.set_option('display.max_columns', None)\n",
    "pd.set_option('display.max_colwidth', None)"
   ]
  },
  {
   "cell_type": "markdown",
   "metadata": {},
   "source": [
    "## Read data"
   ]
  },
  {
   "cell_type": "code",
   "execution_count": null,
   "metadata": {},
   "outputs": [],
   "source": [
    "# change label index based on list of classes\n",
    "def process_autogluon_image_dataset(dataset, classes):\n",
    "    dataset[\"label_name\"] = dataset.image.map(lambda x: Path(x).parts[-2])\n",
    "    dataset[\"label\"] = dataset[\"label_name\"].map(lambda x: classes[x])\n",
    "    return dataset"
   ]
  },
  {
   "cell_type": "code",
   "execution_count": null,
   "metadata": {},
   "outputs": [],
   "source": [
    "# original data deduped\n",
    "DATA_PATH = \"./andrew-ng-dcai-comp-2021-data/\"\n",
    "\n",
    "# read data from root folder\n",
    "train_dataset, val_dataset, test_dataset = \\\n",
    "    ImageDataset.from_folders(\n",
    "        root=DATA_PATH,\n",
    "    )\n",
    "\n",
    "# NOTE!\n",
    "# NOTE! change the label index! AutoGluon assigns label index based on alphabetical order by default\n",
    "classes = {\n",
    "    label_name: idx\n",
    "    for idx, label_name in enumerate(\n",
    "        [\"i\", \"ii\", \"iii\", \"iv\", \"v\", \"vi\", \"vii\", \"viii\", \"ix\", \"x\"]\n",
    "    )\n",
    "}\n",
    "\n",
    "train_dataset, val_dataset, test_dataset = \\\n",
    "    process_autogluon_image_dataset(train_dataset, classes), \\\n",
    "    process_autogluon_image_dataset(val_dataset, classes), \\\n",
    "    process_autogluon_image_dataset(test_dataset, classes)\n",
    "\n",
    "# combine train and val dataset for cross-validation\n",
    "train_val_dataset = pd.concat([train_dataset, val_dataset])"
   ]
  },
  {
   "cell_type": "code",
   "execution_count": null,
   "metadata": {},
   "outputs": [],
   "source": [
    "train_val_dataset.shape"
   ]
  },
  {
   "cell_type": "code",
   "execution_count": null,
   "metadata": {},
   "outputs": [],
   "source": [
    "train_val_dataset.groupby([\"label\", \"label_name\"])[\"image\"].count()"
   ]
  },
  {
   "cell_type": "code",
   "execution_count": null,
   "metadata": {},
   "outputs": [],
   "source": [
    "train_val_dataset.head()"
   ]
  },
  {
   "cell_type": "code",
   "execution_count": null,
   "metadata": {},
   "outputs": [],
   "source": []
  },
  {
   "cell_type": "code",
   "execution_count": null,
   "metadata": {},
   "outputs": [],
   "source": [
    "def get_label_errors(annotation_path, train_val_dataset):\n",
    "    df = pd.read_excel(annotation_path, index_col=0)\n",
    "    train_val_dataset['file_path'] = train_val_dataset['image'].apply(lambda x: '/'.join(Path(x).parts[-3:]))\n",
    "    df = df.merge(train_val_dataset, how='inner', on='file_path')\n",
    "    print(f\"{len(train_val_dataset)} == {len(df)}\")\n",
    "    return df[\"label_error\"].values\n",
    "\n",
    "ANNOTATION_PATH = \"andrew-ng-dcai-comp-2021-manual-review-for-label-errors.xlsx\"\n",
    "label_errors_mask = get_label_errors(annotation_path=ANNOTATION_PATH, train_val_dataset=train_val_dataset)\n",
    "print(set(label_errors_mask))"
   ]
  },
  {
   "cell_type": "markdown",
   "metadata": {},
   "source": [
    "## Generate Out-of-Sample Predicted Probabilities via Cross-Validation"
   ]
  },
  {
   "cell_type": "code",
   "execution_count": null,
   "metadata": {
    "jupyter": {
     "outputs_hidden": true
    },
    "tags": []
   },
   "outputs": [],
   "source": [
    "%%time\n",
    "\n",
    "# generate cross-validated predicted probabilities for various models so we can use them for ensemble scoring methods\n",
    "models = [\n",
    "    \"resnet18\",\n",
    "    \"resnet50d\",\n",
    "    \"efficientnet_b1\",\n",
    "    \"twins_pcpvt_base\",\n",
    "    \"swin_base_patch4_window7_224\"\n",
    "]\n",
    "\n",
    "epochs = 100\n",
    "holdout_frac = 0.2\n",
    "n_splits = 5\n",
    "\n",
    "# run cross-validation for each model\n",
    "\n",
    "ts = datetime.datetime.now().strftime(\"%Y%m%d%H%M%S\") # CV start timestamp\n",
    "\n",
    "for model in models:\n",
    "    \n",
    "    print(\"----\")\n",
    "    print(f\"Running single pass training for model: {model}\")\n",
    "\n",
    "    MODEL_PARAMS = {\n",
    "        \"model\": model,\n",
    "        \"epochs\": epochs,\n",
    "        \"holdout_frac\": holdout_frac\n",
    "    }\n",
    "    out_folder = f\"noxval_roman-numeral_train_val_dataset_cv_{model}/\"\n",
    "    # results of cross-validation will be saved to pickle files for each model/fold\n",
    "    _ = \\\n",
    "        train_predict_autogluon(\n",
    "            dataset=train_val_dataset, # train with NOISY LABELS\n",
    "            classes=classes,\n",
    "            out_folder=out_folder, # save results of cross-validation in pickle files for each fold\n",
    "            n_splits=n_splits,\n",
    "            model_params=MODEL_PARAMS,\n",
    "            time_limit=30,\n",
    "        )\n",
    "    \n",
    "    # label error binary target\n",
    "    print(set(label_errors_mask))\n",
    "    np.save(out_folder + \"label_errors_mask\", label_errors_mask)"
   ]
  },
  {
   "cell_type": "markdown",
   "metadata": {},
   "source": [
    "## Display GPU used for training"
   ]
  },
  {
   "cell_type": "code",
   "execution_count": null,
   "metadata": {},
   "outputs": [],
   "source": [
    "!nvidia-smi"
   ]
  }
 ],
 "metadata": {
  "kernelspec": {
   "display_name": "Python 3 (ipykernel)",
   "language": "python",
   "name": "python3"
  },
  "language_info": {
   "codemirror_mode": {
    "name": "ipython",
    "version": 3
   },
   "file_extension": ".py",
   "mimetype": "text/x-python",
   "name": "python",
   "nbconvert_exporter": "python",
   "pygments_lexer": "ipython3",
   "version": "3.8.10"
  }
 },
 "nbformat": 4,
 "nbformat_minor": 4
}
