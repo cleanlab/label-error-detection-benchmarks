{
 "cells": [
  {
   "cell_type": "code",
   "execution_count": null,
   "id": "27abf3a1-17fb-4c8b-9786-ac2bbf418696",
   "metadata": {},
   "outputs": [],
   "source": [
    "import sys\n",
    "sys.path.insert(0, \"../\")\n",
    "sys.path.insert(0, \"./cifar-10-100n/\")\n",
    "\n",
    "import os\n",
    "import torch\n",
    "from PIL import Image as im\n",
    "import pandas as pd\n",
    "import numpy as np\n",
    "from autogluon.vision import ImagePredictor, ImageDataset\n",
    "import pickle\n",
    "import datetime\n",
    "from pathlib import Path\n",
    "import cleanlab\n",
    "\n",
    "from data.datasets import input_dataset\n",
    "from cross_validation_autogluon import cross_val_predict_autogluon_image_dataset, train_predict_autogluon\n",
    "\n",
    "pd.set_option('display.max_rows', None)\n",
    "pd.set_option('display.max_columns', None)\n",
    "pd.set_option('display.max_colwidth', None)"
   ]
  },
  {
   "cell_type": "markdown",
   "id": "b3efbf64-e7c4-4d42-8780-e4eea650355a",
   "metadata": {},
   "source": [
    "## Read data"
   ]
  },
  {
   "cell_type": "code",
   "execution_count": null,
   "id": "6fee790f-9a91-4b85-af55-ae91eb121541",
   "metadata": {},
   "outputs": [],
   "source": [
    "# get labels\n",
    "noise_file = torch.load('./cifar-10-100n/data/CIFAR-10_human.pt')\n",
    "clean_label = noise_file['clean_label']\n",
    "worst_label = noise_file['worse_label']\n",
    "aggre_label = noise_file['aggre_label']\n",
    "random_label1 = noise_file['random_label1']\n",
    "random_label2 = noise_file['random_label2']\n",
    "random_label3 = noise_file['random_label3']"
   ]
  },
  {
   "cell_type": "code",
   "execution_count": null,
   "id": "8db8b30e-a276-435b-821b-f16ec987907c",
   "metadata": {},
   "outputs": [],
   "source": [
    "# get data\n",
    "dataset = \"cifar10\"\n",
    "noise_type = \"aggre_label\"\n",
    "noise_path = \"./cifar-10-100n/data/CIFAR-10_human.pt\"\n",
    "is_human = True\n",
    "\n",
    "train_dataset, test_dataset, num_classes, num_training_samples = \\\n",
    "    input_dataset(dataset, noise_type, noise_path, is_human)"
   ]
  },
  {
   "cell_type": "code",
   "execution_count": null,
   "id": "044d6991-51dd-46f5-868b-913324a01357",
   "metadata": {},
   "outputs": [],
   "source": [
    "print(f\"Accuracy of noisy labels vs true labels: {(aggre_label == clean_label).mean()}\")"
   ]
  },
  {
   "cell_type": "code",
   "execution_count": null,
   "id": "d9c2a28c-6fe0-4169-90bb-31fa9ce4a9b9",
   "metadata": {},
   "outputs": [],
   "source": [
    "# classes\n",
    "classes = ['airplane', 'automobile', 'bird', 'cat', 'deer', 'dog', 'frog', 'horse', 'ship', 'truck']"
   ]
  },
  {
   "cell_type": "markdown",
   "id": "47d853cc-b36f-4256-9d04-ba1abdfd88c1",
   "metadata": {},
   "source": [
    "## Manually inspect some images"
   ]
  },
  {
   "cell_type": "code",
   "execution_count": null,
   "id": "fd387c23-7220-4f6e-a310-3f1d2f1be0cc",
   "metadata": {},
   "outputs": [],
   "source": [
    "label_errors_mask = aggre_label != clean_label"
   ]
  },
  {
   "cell_type": "code",
   "execution_count": null,
   "id": "37ddeae8-471b-460a-a36e-b66a2fcfdcf9",
   "metadata": {},
   "outputs": [],
   "source": [
    "# check out some images\n",
    "# idx = 0\n",
    "\n",
    "# pick random image to inspect\n",
    "idx = np.random.randint(0, train_dataset.train_data[label_errors_mask].shape[0])\n",
    "\n",
    "X = train_dataset.train_data[label_errors_mask][idx]\n",
    "noisy_label = np.array(train_dataset.train_noisy_labels)[label_errors_mask][idx]\n",
    "true_label = np.array(train_dataset.train_labels)[label_errors_mask][idx]\n",
    "\n",
    "print(f\"Datapoint index: {idx}\")\n",
    "print(f\"  Noisy Label: {noisy_label}, {classes[noisy_label]}\")\n",
    "print(f\"  True Label: {true_label}, {classes[true_label]}\")\n",
    "\n",
    "newsize = (300, 300) # zoom in\n",
    "\n",
    "im.fromarray(X).resize(newsize)"
   ]
  },
  {
   "cell_type": "markdown",
   "id": "f6e7f13d-0ce7-4606-912a-a79568429d8f",
   "metadata": {},
   "source": [
    "Datapoints to inspect further:\n",
    "\n",
    "Datapoints (index) where the true label is wrong\n",
    "  14023 (true label is airplane but looks like a bird)"
   ]
  },
  {
   "cell_type": "markdown",
   "id": "e2a9a669-ebcc-42b5-badc-0d450a866fe8",
   "metadata": {},
   "source": [
    "## Save images to folder\n",
    "\n",
    "AutoGluon image models require the data to be image files in a folder\n",
    "\n",
    "We'll save the images as PNG files in a single folder and save their file paths in a list"
   ]
  },
  {
   "cell_type": "code",
   "execution_count": null,
   "id": "c4e8de96-fe3f-4176-ae85-09d204a46c3a",
   "metadata": {},
   "outputs": [],
   "source": [
    "%%time\n",
    "\n",
    "# create folder\n",
    "SAVE_PATH = \"./cifar-10n-png/train/\"\n",
    "os.makedirs(SAVE_PATH)\n",
    "\n",
    "# save images to folder\n",
    "\n",
    "image_file_paths = [] # list of image file paths\n",
    "\n",
    "for i, data in enumerate(train_dataset.train_data):\n",
    "    \n",
    "    # convert data to image object\n",
    "    image = im.fromarray(data) \n",
    "\n",
    "    # path to image PNG file\n",
    "    png_file = f\"{SAVE_PATH}image_id_{i}.png\"\n",
    "    \n",
    "    # print the number of images saved\n",
    "    print(f\"Images saved: {i + 1}\", end=\"\\r\")\n",
    "    \n",
    "    # append file to list of file paths\n",
    "    image_file_paths.append(png_file)\n",
    "    \n",
    "    # save image as PNG\n",
    "    image.save(png_file)"
   ]
  },
  {
   "cell_type": "markdown",
   "id": "53e0d19f-3486-47e3-9cff-8847b47edc27",
   "metadata": {},
   "source": [
    "## Create DataFrame to use as input for AutoGluon Image predictor"
   ]
  },
  {
   "cell_type": "code",
   "execution_count": null,
   "id": "9f3fa582-97a0-4790-a93f-747731042804",
   "metadata": {},
   "outputs": [],
   "source": [
    "# Note: AutoGluon requires the column names to be \"image\" and \"label\"\n",
    "df_train = pd.DataFrame({\n",
    "    \"image\": image_file_paths,\n",
    "    \"label\": train_dataset.train_noisy_labels, # noisy labels\n",
    "    \"true_label\": train_dataset.train_labels # true labels\n",
    "})"
   ]
  },
  {
   "cell_type": "code",
   "execution_count": null,
   "id": "b6c7a762-5687-4bd1-91ed-7405f783f7d7",
   "metadata": {},
   "outputs": [],
   "source": [
    "df_train.reset_index().to_csv(\"cifar-10n-dataset-noise-type-aggre.csv\", index=False)"
   ]
  },
  {
   "cell_type": "code",
   "execution_count": null,
   "id": "2bef92a2-f95b-43f4-be79-96f59e966537",
   "metadata": {},
   "outputs": [],
   "source": [
    "assert (clean_label == df_train.true_label.values).all()"
   ]
  },
  {
   "cell_type": "markdown",
   "id": "b4c42f98-2cd1-4732-a967-e6734ae1b8f2",
   "metadata": {},
   "source": [
    "# Optional: copy the images to a faster drive (e.g. M.2 SSD) which will speedup training"
   ]
  },
  {
   "cell_type": "code",
   "execution_count": null,
   "id": "a7a433c8-3b1b-4142-9d7f-703e63370d8b",
   "metadata": {},
   "outputs": [],
   "source": [
    "!cp -r ./cifar-10n-png/ /Data/cifar-10n-png/"
   ]
  },
  {
   "cell_type": "code",
   "execution_count": null,
   "id": "90ce8831-7ee0-4751-b8cb-8c70b2431f39",
   "metadata": {},
   "outputs": [],
   "source": [
    "# !ls /Data/cifar-10n-png"
   ]
  },
  {
   "cell_type": "code",
   "execution_count": null,
   "id": "12372664-99ab-4430-841c-17ff7899d12c",
   "metadata": {},
   "outputs": [],
   "source": [
    "# add prefix to file path if we moved it to another drive\n",
    "prefix = \"/Data/\"\n",
    "df_train[\"image\"] = df_train.image.map(lambda f: str(Path(prefix + f)))\n",
    "df_train.head()"
   ]
  },
  {
   "cell_type": "code",
   "execution_count": null,
   "id": "5b1d78e3-85b0-4ca7-b2ef-16ed3cff5740",
   "metadata": {},
   "outputs": [],
   "source": [
    "!ls /Data"
   ]
  },
  {
   "cell_type": "markdown",
   "id": "b34b2120-a02c-464f-a6be-65ad59243c1b",
   "metadata": {},
   "source": [
    "## Generate In-Sample Predicted Probabilities"
   ]
  },
  {
   "cell_type": "code",
   "execution_count": null,
   "id": "c4d08cbe-06fa-4560-9bf7-e69bdb8fc0d6",
   "metadata": {
    "tags": []
   },
   "outputs": [],
   "source": [
    "%%time\n",
    "\n",
    "# generate cross-validated predicted probabilities for various models so we can use them for ensemble scoring methods\n",
    "models = [\n",
    "    \"resnet18\",\n",
    "    \"resnet50d\",\n",
    "    \"efficientnet_b1\",\n",
    "    \"twins_pcpvt_base\",\n",
    "    \"swin_base_patch4_window7_224\"\n",
    "]\n",
    "\n",
    "epochs = 100\n",
    "holdout_frac = 0.2\n",
    "n_splits = 5\n",
    "\n",
    "# run cross-validation for each model\n",
    "for model in models:\n",
    "    \n",
    "    print(\"----\")\n",
    "    print(f\"Running cross-validation for model: {model}\")\n",
    "\n",
    "    MODEL_PARAMS = {\n",
    "        \"model\": model,\n",
    "        \"epochs\": epochs,\n",
    "        \"holdout_frac\": holdout_frac\n",
    "    }\n",
    "\n",
    "    # results of cross-validation will be saved to pickle files for each model/fold\n",
    "    _ = \\\n",
    "        train_predict_autogluon(\n",
    "            dataset=df_train, # train with NOISY LABELS\n",
    "            classes=classes,\n",
    "            out_folder=f\"./cifar-10n-png_noise_type_aggre_cv_{model}/\", # save results of cross-validation in pickle files for each fold\n",
    "            n_splits=n_splits,\n",
    "            model_params=MODEL_PARAMS\n",
    "        )"
   ]
  }
 ],
 "metadata": {
  "kernelspec": {
   "display_name": "Python 3 (ipykernel)",
   "language": "python",
   "name": "python3"
  },
  "language_info": {
   "codemirror_mode": {
    "name": "ipython",
    "version": 3
   },
   "file_extension": ".py",
   "mimetype": "text/x-python",
   "name": "python",
   "nbconvert_exporter": "python",
   "pygments_lexer": "ipython3",
   "version": "3.8.10"
  }
 },
 "nbformat": 4,
 "nbformat_minor": 5
}
